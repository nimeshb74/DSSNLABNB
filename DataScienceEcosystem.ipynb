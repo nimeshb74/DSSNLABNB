{
 "cells": [
  {
   "cell_type": "code",
   "execution_count": null,
   "id": "79763c3f-5ceb-4ed2-8687-c0951f828875",
   "metadata": {
    "tags": []
   },
   "outputs": [],
   "source": [
    "# Data Science Tools and Ecosystem\n",
    "\n",
    "in this notebook, Data Science Tools and Ecosystems are summarized"
   ]
  },
  {
   "cell_type": "code",
   "execution_count": 5,
   "id": "84ab3bf2-6589-4320-a81b-d4f6091fd8ba",
   "metadata": {
    "tags": []
   },
   "outputs": [
    {
     "ename": "SyntaxError",
     "evalue": "invalid syntax (2649624609.py, line 3)",
     "output_type": "error",
     "traceback": [
      "\u001b[0;36m  File \u001b[0;32m\"/tmp/ipykernel_361/2649624609.py\"\u001b[0;36m, line \u001b[0;32m3\u001b[0m\n\u001b[0;31m    1. Python\u001b[0m\n\u001b[0m            ^\u001b[0m\n\u001b[0;31mSyntaxError\u001b[0m\u001b[0;31m:\u001b[0m invalid syntax\n"
     ]
    }
   ],
   "source": [
    "## Data Science Languages\n",
    "\n",
    "1. Python\n",
    "2. R\n",
    "3. SQL\n",
    "4. Java\n",
    "5. Scala\n",
    "6. Julia\n",
    "7. MATLAB\n"
   ]
  },
  {
   "cell_type": "markdown",
   "id": "03ea0c25-2047-438f-a68e-21e5da70196c",
   "metadata": {},
   "source": [
    "## Data Science Languages\n",
    "\n",
    "1. Python\n",
    "2. R\n",
    "3. SQL\n",
    "4. Java\n",
    "5. Scala\n",
    "6. Julia\n",
    "7. MATLAB\n"
   ]
  },
  {
   "cell_type": "markdown",
   "id": "9595e43a-6780-4a0a-8b68-6ca964a81f74",
   "metadata": {},
   "source": [
    "| Data Science Tools |\n",
    "|--------------------|\n",
    "| Jupyter Notebook   |\n",
    "| RStudio            |\n",
    "| Apache Zeppelin    |\n"
   ]
  },
  {
   "cell_type": "markdown",
   "id": "4997694e-adb6-4b70-b211-125189dae51c",
   "metadata": {},
   "source": [
    "### Below are a few examples of evaluating arithmetic expressions in Python.\n",
    "\n",
    "1. Addition: `2 + 3` results in `5`\n",
    "2. Subtraction: `5 - 2` results in `3`\n",
    "3. Multiplication: `3 * 4` results in `12`\n",
    "4. Division: `8 / 2` results in `4`\n",
    "5. Exponentiation: `2 ** 3` results in `8`\n",
    "6. Modulus: `7 % 4` results in `3`\n"
   ]
  },
  {
   "cell_type": "code",
   "execution_count": 6,
   "id": "03e53665-8ba4-400b-914c-0c6abf47ab1b",
   "metadata": {
    "tags": []
   },
   "outputs": [
    {
     "name": "stdout",
     "output_type": "stream",
     "text": [
      "17\n"
     ]
    }
   ],
   "source": [
    "# This is a simple arithmetic expression to multiply then add integers.\n",
    "result = (3 * 4) + 5\n",
    "print(result)\n"
   ]
  },
  {
   "cell_type": "code",
   "execution_count": 7,
   "id": "00952bc0-d68f-4849-bfdb-1f02748ede27",
   "metadata": {
    "tags": []
   },
   "outputs": [
    {
     "name": "stdout",
     "output_type": "stream",
     "text": [
      "200 minutes is equal to 3.3333333333333335 hours.\n"
     ]
    }
   ],
   "source": [
    "# This will convert 200 minutes to hours by dividing by 60.\n",
    "hours = 200 / 60\n",
    "print(f\"200 minutes is equal to {hours} hours.\")\n"
   ]
  },
  {
   "cell_type": "markdown",
   "id": "2e5517f9-9b13-4c26-87f3-6ccd71c7bad3",
   "metadata": {},
   "source": [
    "**Objectives:**\n",
    "\n",
    "- 5 popular languages for Data Science\n",
    "- Demonstration of basic arithmetic operations in Python\n",
    "- Convert units of measurement (e.g., minutes to hours)\n",
    "- Introduce development environments and tools for Data Science\n",
    "- The use of markdown cells for documentation in Jupyter Notebooks, is great for covering the following: \n",
    "    Clarity: Markdown cells can be used to write explanations or instructions \n",
    "    Organization: They help to organize the notebook into sections with headings\n",
    "    Presentation: You can use markdown to present your findings or results\n",
    "    Education: If you’re using a notebook for teaching or demonstrations\n",
    "    Versatility: Markdown supports HTML and LaTeX\n"
   ]
  },
  {
   "cell_type": "markdown",
   "id": "4caf6390-53ff-4272-8690-22f87dd2daf8",
   "metadata": {},
   "source": [
    "**Nimesh K Bharadia - ps I did make a mistake in saving the images so you have jpg's & png**"
   ]
  },
  {
   "cell_type": "code",
   "execution_count": null,
   "id": "925d6ff3-7d80-464a-bf61-d9d00e577132",
   "metadata": {},
   "outputs": [],
   "source": []
  }
 ],
 "metadata": {
  "kernelspec": {
   "display_name": "Python",
   "language": "python",
   "name": "conda-env-python-py"
  },
  "language_info": {
   "codemirror_mode": {
    "name": "ipython",
    "version": 3
   },
   "file_extension": ".py",
   "mimetype": "text/x-python",
   "name": "python",
   "nbconvert_exporter": "python",
   "pygments_lexer": "ipython3",
   "version": "3.7.12"
  }
 },
 "nbformat": 4,
 "nbformat_minor": 5
}
