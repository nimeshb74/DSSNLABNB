{
 "cells": [
  {
   "cell_type": "markdown",
   "id": "587eba84-c332-4f2f-b386-e7c7f1a2b484",
   "metadata": {},
   "source": [
    "# Data Science Tools and Ecosystem\n"
   ]
  },
  {
   "cell_type": "markdown",
   "id": "c59ad33a-6e3c-44d7-aae6-6146858f9667",
   "metadata": {
    "tags": []
   },
   "source": [
    "# In this notebook, Data Science Tools and Ecosystem are summarized.\n"
   ]
  },
  {
   "cell_type": "markdown",
   "id": "1def4f8e-8a44-4774-96c7-b44941bd9862",
   "metadata": {},
   "source": [
    "**Objectives:**\n",
    "\n",
    "- List popular languages for Data Science\n",
    "- Demonstrate basic arithmetic operations in Python\n",
    "- Convert units of measurement (e.g., minutes to hours)\n"
   ]
  },
  {
   "cell_type": "markdown",
   "id": "8fdf8269-b238-40e1-84f7-23ffafce4e9b",
   "metadata": {},
   "source": [
    "## Data Science Languages\n",
    "\n",
    "1. Python\n",
    "2. R\n",
    "3. SQL\n",
    "4. Java\n",
    "5. Scala\n",
    "6. Julia\n",
    "7. MATLAB\n"
   ]
  },
  {
   "cell_type": "markdown",
   "id": "098196af-d723-4a52-be85-89e8857dd1dc",
   "metadata": {},
   "source": [
    "## Some of the popular languages that Data Scientists use are:\n",
    "\n",
    "1. Python\n",
    "2. R\n",
    "3. SQL\n",
    "4. Java\n",
    "5. Scala\n",
    "6. Julia\n",
    "7. MATLAB\n",
    "\n",
    "\n",
    "\n"
   ]
  },
  {
   "cell_type": "markdown",
   "id": "c05c2f79-75d2-414b-b30e-576d049bb661",
   "metadata": {},
   "source": [
    "## Data Science Libraries (Most Popular)\n",
    "\n",
    "1. Pandas\n",
    "2. NumPy\n",
    "3. Scikit-learn\n",
    "4. Matplotlib\n",
    "5. TensorFlow\n",
    "6. Keras\n",
    "7. Seaborn\n"
   ]
  },
  {
   "cell_type": "markdown",
   "id": "d14333c4-4585-4f97-84d3-f574fab04f64",
   "metadata": {},
   "source": [
    "| Data Science Tools |\n",
    "|--------------------|\n",
    "| Jupyter Notebook   |\n",
    "| RStudio            |\n",
    "| Apache Zeppelin    |\n"
   ]
  },
  {
   "cell_type": "markdown",
   "id": "16111cbf-042e-4383-9899-9c239f12cb5b",
   "metadata": {},
   "source": [
    "### Below are a few examples of evaluating arithmetic expressions in Python.\n",
    "\n",
    "1. Addition: `2 + 3` results in `5`\n",
    "2. Subtraction: `5 - 2` results in `3`\n",
    "3. Multiplication: `3 * 4` results in `12`\n",
    "4. Division: `8 / 2` results in `4`\n",
    "5. Exponentiation: `2 ** 3` results in `8`\n",
    "6. Modulus: `7 % 4` results in `3`\n"
   ]
  },
  {
   "cell_type": "code",
   "execution_count": 2,
   "id": "f93e37f1-d22b-4333-be6b-d142f6e6a597",
   "metadata": {
    "tags": []
   },
   "outputs": [
    {
     "name": "stdout",
     "output_type": "stream",
     "text": [
      "17\n"
     ]
    }
   ],
   "source": [
    "# This is a simple arithmetic expression to multiply then add integers.\n",
    "result = (3 * 4) + 5\n",
    "print(result)\n"
   ]
  },
  {
   "cell_type": "code",
   "execution_count": 3,
   "id": "4baede45-4f9a-4c76-9563-c76e8bbd9a3f",
   "metadata": {
    "tags": []
   },
   "outputs": [
    {
     "name": "stdout",
     "output_type": "stream",
     "text": [
      "200 minutes is equal to 3.3333333333333335 hours.\n"
     ]
    }
   ],
   "source": [
    "# This will convert 200 minutes to hours by dividing by 60.\n",
    "hours = 200 / 60\n",
    "print(f\"200 minutes is equal to {hours} hours.\")\n"
   ]
  },
  {
   "cell_type": "markdown",
   "id": "a569114b-382a-4e65-98ca-368a4448c84a",
   "metadata": {},
   "source": [
    "## Author:\n",
    "\n",
    "Nimesh K Bharadia"
   ]
  },
  {
   "cell_type": "code",
   "execution_count": null,
   "id": "2eb22045-f3a3-419d-9451-b9a0008b3079",
   "metadata": {},
   "outputs": [],
   "source": []
  }
 ],
 "metadata": {
  "kernelspec": {
   "display_name": "Python",
   "language": "python",
   "name": "conda-env-python-py"
  },
  "language_info": {
   "codemirror_mode": {
    "name": "ipython",
    "version": 3
   },
   "file_extension": ".py",
   "mimetype": "text/x-python",
   "name": "python",
   "nbconvert_exporter": "python",
   "pygments_lexer": "ipython3",
   "version": "3.7.12"
  }
 },
 "nbformat": 4,
 "nbformat_minor": 5
}
